{
 "cells": [
  {
   "cell_type": "markdown",
   "metadata": {},
   "source": [
    "# Notebook Contents\n",
    "* Transforming the excel data into a pandas dataframe\n",
    "* Performing a t test that compares the mean deaths in afghanistan of 1989-1993 to 2013-2018\n",
    "* Generating google maps screenshots of conflicts in afghanistan"
   ]
  },
  {
   "cell_type": "code",
   "execution_count": 1,
   "metadata": {},
   "outputs": [],
   "source": [
    "import pandas as pd\n",
    "import gmaps\n",
    "import numpy as np\n",
    "import matplotlib.pyplot as plt\n",
    "import scipy.stats as stats\n",
    "from scipy.stats import norm\n",
    "import seaborn as sns\n",
    "import math"
   ]
  },
  {
   "cell_type": "code",
   "execution_count": 2,
   "metadata": {},
   "outputs": [],
   "source": [
    "url = 'http://ucdpapi.pcr.uu.se/api/gedevents/19.1?pagesize=1&page=1'\n",
    "\n",
    "filepath = 'Data_Files/ged191.xlsx'\n",
    "\n",
    "data = pd.read_excel(filepath)"
   ]
  },
  {
   "cell_type": "code",
   "execution_count": 3,
   "metadata": {},
   "outputs": [
    {
     "data": {
      "text/html": [
       "<div>\n",
       "<style scoped>\n",
       "    .dataframe tbody tr th:only-of-type {\n",
       "        vertical-align: middle;\n",
       "    }\n",
       "\n",
       "    .dataframe tbody tr th {\n",
       "        vertical-align: top;\n",
       "    }\n",
       "\n",
       "    .dataframe thead th {\n",
       "        text-align: right;\n",
       "    }\n",
       "</style>\n",
       "<table border=\"1\" class=\"dataframe\">\n",
       "  <thead>\n",
       "    <tr style=\"text-align: right;\">\n",
       "      <th></th>\n",
       "      <th>id</th>\n",
       "      <th>year</th>\n",
       "      <th>active_year</th>\n",
       "      <th>type_of_violence</th>\n",
       "      <th>conflict_new_id</th>\n",
       "      <th>conflict_name</th>\n",
       "      <th>dyad_new_id</th>\n",
       "      <th>dyad_name</th>\n",
       "      <th>side_a_new_id</th>\n",
       "      <th>gwnoa</th>\n",
       "      <th>...</th>\n",
       "      <th>date_prec</th>\n",
       "      <th>date_start</th>\n",
       "      <th>date_end</th>\n",
       "      <th>deaths_a</th>\n",
       "      <th>deaths_b</th>\n",
       "      <th>deaths_civilians</th>\n",
       "      <th>deaths_unknown</th>\n",
       "      <th>low</th>\n",
       "      <th>best</th>\n",
       "      <th>high</th>\n",
       "    </tr>\n",
       "  </thead>\n",
       "  <tbody>\n",
       "    <tr>\n",
       "      <th>0</th>\n",
       "      <td>67972</td>\n",
       "      <td>2013</td>\n",
       "      <td>1</td>\n",
       "      <td>1</td>\n",
       "      <td>11347</td>\n",
       "      <td>Mali: Government</td>\n",
       "      <td>12571</td>\n",
       "      <td>Government of Mali - MUJAO</td>\n",
       "      <td>72</td>\n",
       "      <td>432.0</td>\n",
       "      <td>...</td>\n",
       "      <td>2</td>\n",
       "      <td>2013-01-11</td>\n",
       "      <td>2013-01-12</td>\n",
       "      <td>12</td>\n",
       "      <td>16</td>\n",
       "      <td>3</td>\n",
       "      <td>0</td>\n",
       "      <td>31</td>\n",
       "      <td>31</td>\n",
       "      <td>50</td>\n",
       "    </tr>\n",
       "    <tr>\n",
       "      <th>1</th>\n",
       "      <td>23385</td>\n",
       "      <td>2004</td>\n",
       "      <td>1</td>\n",
       "      <td>3</td>\n",
       "      <td>583</td>\n",
       "      <td>FNI - Civilians</td>\n",
       "      <td>1050</td>\n",
       "      <td>FNI - Civilians</td>\n",
       "      <td>606</td>\n",
       "      <td>NaN</td>\n",
       "      <td>...</td>\n",
       "      <td>2</td>\n",
       "      <td>2004-01-14</td>\n",
       "      <td>2004-01-16</td>\n",
       "      <td>0</td>\n",
       "      <td>0</td>\n",
       "      <td>200</td>\n",
       "      <td>0</td>\n",
       "      <td>100</td>\n",
       "      <td>200</td>\n",
       "      <td>200</td>\n",
       "    </tr>\n",
       "    <tr>\n",
       "      <th>2</th>\n",
       "      <td>24255</td>\n",
       "      <td>2007</td>\n",
       "      <td>0</td>\n",
       "      <td>2</td>\n",
       "      <td>4600</td>\n",
       "      <td>CNDP - PARECO</td>\n",
       "      <td>5210</td>\n",
       "      <td>CNDP - PARECO</td>\n",
       "      <td>426</td>\n",
       "      <td>NaN</td>\n",
       "      <td>...</td>\n",
       "      <td>2</td>\n",
       "      <td>2007-12-13</td>\n",
       "      <td>2007-12-18</td>\n",
       "      <td>0</td>\n",
       "      <td>0</td>\n",
       "      <td>4</td>\n",
       "      <td>0</td>\n",
       "      <td>4</td>\n",
       "      <td>4</td>\n",
       "      <td>4</td>\n",
       "    </tr>\n",
       "    <tr>\n",
       "      <th>3</th>\n",
       "      <td>82612</td>\n",
       "      <td>2008</td>\n",
       "      <td>1</td>\n",
       "      <td>1</td>\n",
       "      <td>364</td>\n",
       "      <td>India: Kashmir</td>\n",
       "      <td>792</td>\n",
       "      <td>Government of India - Kashmir insurgents</td>\n",
       "      <td>141</td>\n",
       "      <td>750.0</td>\n",
       "      <td>...</td>\n",
       "      <td>2</td>\n",
       "      <td>2008-03-04</td>\n",
       "      <td>2008-03-05</td>\n",
       "      <td>0</td>\n",
       "      <td>2</td>\n",
       "      <td>0</td>\n",
       "      <td>0</td>\n",
       "      <td>2</td>\n",
       "      <td>2</td>\n",
       "      <td>2</td>\n",
       "    </tr>\n",
       "    <tr>\n",
       "      <th>4</th>\n",
       "      <td>82645</td>\n",
       "      <td>2008</td>\n",
       "      <td>1</td>\n",
       "      <td>1</td>\n",
       "      <td>364</td>\n",
       "      <td>India: Kashmir</td>\n",
       "      <td>792</td>\n",
       "      <td>Government of India - Kashmir insurgents</td>\n",
       "      <td>141</td>\n",
       "      <td>750.0</td>\n",
       "      <td>...</td>\n",
       "      <td>2</td>\n",
       "      <td>2008-06-30</td>\n",
       "      <td>2008-07-01</td>\n",
       "      <td>1</td>\n",
       "      <td>11</td>\n",
       "      <td>0</td>\n",
       "      <td>0</td>\n",
       "      <td>12</td>\n",
       "      <td>12</td>\n",
       "      <td>12</td>\n",
       "    </tr>\n",
       "  </tbody>\n",
       "</table>\n",
       "<p>5 rows × 42 columns</p>\n",
       "</div>"
      ],
      "text/plain": [
       "      id  year  active_year  type_of_violence  conflict_new_id  \\\n",
       "0  67972  2013            1                 1            11347   \n",
       "1  23385  2004            1                 3              583   \n",
       "2  24255  2007            0                 2             4600   \n",
       "3  82612  2008            1                 1              364   \n",
       "4  82645  2008            1                 1              364   \n",
       "\n",
       "      conflict_name  dyad_new_id                                 dyad_name  \\\n",
       "0  Mali: Government        12571                Government of Mali - MUJAO   \n",
       "1   FNI - Civilians         1050                           FNI - Civilians   \n",
       "2     CNDP - PARECO         5210                             CNDP - PARECO   \n",
       "3    India: Kashmir          792  Government of India - Kashmir insurgents   \n",
       "4    India: Kashmir          792  Government of India - Kashmir insurgents   \n",
       "\n",
       "   side_a_new_id  gwnoa  ... date_prec  date_start   date_end deaths_a  \\\n",
       "0             72  432.0  ...         2  2013-01-11 2013-01-12       12   \n",
       "1            606    NaN  ...         2  2004-01-14 2004-01-16        0   \n",
       "2            426    NaN  ...         2  2007-12-13 2007-12-18        0   \n",
       "3            141  750.0  ...         2  2008-03-04 2008-03-05        0   \n",
       "4            141  750.0  ...         2  2008-06-30 2008-07-01        1   \n",
       "\n",
       "   deaths_b deaths_civilians deaths_unknown  low best high  \n",
       "0        16                3              0   31   31   50  \n",
       "1         0              200              0  100  200  200  \n",
       "2         0                4              0    4    4    4  \n",
       "3         2                0              0    2    2    2  \n",
       "4        11                0              0   12   12   12  \n",
       "\n",
       "[5 rows x 42 columns]"
      ]
     },
     "execution_count": 3,
     "metadata": {},
     "output_type": "execute_result"
    }
   ],
   "source": [
    "data_df = pd.DataFrame(data)\n",
    "data_df.head()"
   ]
  },
  {
   "cell_type": "code",
   "execution_count": null,
   "metadata": {},
   "outputs": [],
   "source": [
    "df_year=[]\n",
    "df_month=[]\n",
    "df_day=[]\n",
    "df_date = data_df['date_start'].astype(str).str.split('-')\n",
    "df_date = df_date.reset_index()\n",
    "for i in range(len(df_date)):\n",
    "   df_year.append(df_date.loc[i][1][0])\n",
    "   df_month.append(df_date.loc[i][1][1])\n",
    "   df_day.append(df_date.loc[i][1][2][:2])\n",
    "data_df['year2']=df_year\n",
    "data_df['month']=df_month\n",
    "data_df['day']=df_day\n",
    "data_df"
   ]
  },
  {
   "cell_type": "code",
   "execution_count": null,
   "metadata": {
    "scrolled": true
   },
   "outputs": [],
   "source": [
    "# CREATE CLEANED DATAFRAME WITH ALL COUNTRIES\n",
    "heatmap_df = data_df[['year','country','latitude', 'longitude', 'best']]\n",
    "heatmap_df"
   ]
  },
  {
   "cell_type": "code",
   "execution_count": null,
   "metadata": {},
   "outputs": [],
   "source": [
    "# Store 'Lat' and 'Lng' into  locations \n",
    "locations = heatmap_df[['latitude', 'longitude']].astype(float)\n",
    "\n",
    "# Convert best death guess to float and store\n",
    "deaths = heatmap_df['best'].astype(float)\n",
    "\n",
    "years = heatmap_df['year'].astype(int).unique()\n",
    "\n",
    "years.astype(int)\n",
    "years.sort()\n",
    "years"
   ]
  },
  {
   "cell_type": "code",
   "execution_count": null,
   "metadata": {},
   "outputs": [],
   "source": [
    "fig = gmaps.figure()\n",
    "\n",
    "heat_layer = gmaps.heatmap_layer(locations, weights=deaths, \n",
    "                                 dissipating=False, max_intensity=100,\n",
    "                                 point_radius = .5)\n",
    "fig.add_layer(heat_layer)\n",
    "fig"
   ]
  },
  {
   "cell_type": "code",
   "execution_count": null,
   "metadata": {},
   "outputs": [],
   "source": [
    "afg_df = heatmap_df.loc[heatmap_df['country'] == 'Afghanistan']\n",
    "mean_lat = afg_df['latitude'].mean()\n",
    "mean_long = afg_df['longitude'].mean()\n",
    "mean_location = [mean_lat, mean_long]\n",
    "\n",
    "# GMAPS does not allow me to save the png (at least in a useful way)\n",
    "# Need to go by year, then create screenshot for each year\n",
    "year = 2018\n",
    "\n",
    "# Get data for particular year in DataFrame\n",
    "year_df = afg_df.loc[afg_df['year'] == year]\n",
    "\n",
    "# Get latitude and longitude for each\n",
    "year_locations = year_df[['latitude', 'longitude']]\n",
    "\n",
    "# Get number of deaths\n",
    "year_deaths = year_df['best']\n",
    "\n",
    "# Create figure\n",
    "fig = gmaps.figure(zoom_level = 5.5, center = mean_location, layout={\n",
    "        'width': '500px',\n",
    "        'height': '600px',\n",
    "        'padding': '3px',\n",
    "        'border': '1px solid black'\n",
    "})\n",
    "\n",
    "# Add heatmap weighted\n",
    "heat_layer = gmaps.heatmap_layer(year_locations, weights=year_deaths, \n",
    "                             dissipating=False, max_intensity=100,\n",
    "                             point_radius = .05)\n",
    "\n",
    "fig.add_layer(heat_layer)\n",
    "fig"
   ]
  },
  {
   "cell_type": "code",
   "execution_count": null,
   "metadata": {},
   "outputs": [],
   "source": [
    "# Group deaths in Afghanistan by year\n",
    "afg_grp = afg_df[['best', 'country', 'year']].groupby('year').sum().reset_index()\n",
    "afg_grp.head()"
   ]
  },
  {
   "cell_type": "code",
   "execution_count": null,
   "metadata": {
    "scrolled": true
   },
   "outputs": [],
   "source": [
    "# Plot yearly deaths\n",
    "afg = plt.plot(afg_grp['year'], afg_grp['best'], marker = 'o')\n",
    "plt.title('Number of Deaths in Afghanistan, 1989-2018', weight = 'bold')\n",
    "plt.xlabel('Year')\n",
    "plt.ylabel('Number of deaths')\n",
    "plt.grid()\n",
    "plt.savefig('images/Afghanistan_Deaths_By_Year')"
   ]
  },
  {
   "cell_type": "markdown",
   "metadata": {},
   "source": [
    "## Perform t Test\n",
    "* Group 1 = Number of deaths per month from 1989 - 1994\n",
    "* Group 2 = Number of deaths per month from 2013 - 2018\n",
    "\n",
    "* $H_{0}$ : mean(Group 1) = mean(Group 2)\n"
   ]
  },
  {
   "cell_type": "code",
   "execution_count": null,
   "metadata": {},
   "outputs": [],
   "source": [
    "# CREATE T TEST DATAFRAME (USES MONTH/DAY)\n",
    "month_df = data_df[['country', 'year2', 'month', 'day', 'best']]\n",
    "afg_df = month_df.loc[month_df['country'] == 'Afghanistan']\n",
    "\n",
    "new_names = ['Country', 'Year', 'Month', 'Day', 'Best Estimate of Deaths']\n",
    "afg_df.columns = new_names\n",
    "\n",
    "afg_df.head()"
   ]
  },
  {
   "cell_type": "code",
   "execution_count": null,
   "metadata": {},
   "outputs": [],
   "source": [
    "# Group each month together in grouped DF\n",
    "month_grp = afg_df.groupby(['Year', 'Month']).sum()\n",
    "\n",
    "\n",
    "months_grp = pd.DataFrame(month_grp).reset_index()\n",
    "months_grp.head()"
   ]
  },
  {
   "cell_type": "code",
   "execution_count": null,
   "metadata": {},
   "outputs": [],
   "source": [
    "# Create groups with monthly deaths from 1989 - 1994\n",
    "\n",
    "months1 = months_grp.loc[months_grp['Year'] == '1989']\n",
    "months2 = months_grp.loc[months_grp['Year'] == '1990']\n",
    "months3 = months_grp.loc[months_grp['Year'] == '1991']\n",
    "months4 = months_grp.loc[months_grp['Year'] == '1992']\n",
    "months5 = months_grp.loc[months_grp['Year'] == '1993']\n",
    "months6 = months_grp.loc[months_grp['Year'] == '1994']"
   ]
  },
  {
   "cell_type": "code",
   "execution_count": null,
   "metadata": {},
   "outputs": [],
   "source": [
    "# Create dataframe containing all of those values\n",
    "months_df = months1.append(months2)\n",
    "months_df = months_df.append(months3)\n",
    "months_df = months_df.append(months4)\n",
    "months_df = months_df.append(months5)\n",
    "months_df = months_df.append(months6)\n",
    "\n",
    "# Get number of deaths for each month\n",
    "grp1_deaths = list(months_df['Best Estimate of Deaths'])\n"
   ]
  },
  {
   "cell_type": "code",
   "execution_count": null,
   "metadata": {},
   "outputs": [],
   "source": [
    "log1 = []\n",
    "for i in grp1_deaths:\n",
    "    log1.append(math.log10(i))\n",
    "\n",
    "\n",
    "# SHOW LOG DISTRIBUTION    \n",
    "sns.distplot(log1, hist = True, bins = 10, fit = norm, \\\n",
    "             color = 'blue', axlabel = \"Log of Number of Deaths\") \n",
    "plt.title(\"Logarithmic Distribution of Number of Monthly Deaths (1989-1994)\")\n",
    "plt.grid()\n",
    "plt.savefig('images/Early_Deaths_Distribution')"
   ]
  },
  {
   "cell_type": "code",
   "execution_count": null,
   "metadata": {},
   "outputs": [],
   "source": [
    "# Create group with monthly deaths from 2013 - 2018\n",
    "months1a = months_grp.loc[months_grp['Year'] == '2013']\n",
    "months2a = months_grp.loc[months_grp['Year'] == '2014']\n",
    "months3a = months_grp.loc[months_grp['Year'] == '2015']\n",
    "months4a = months_grp.loc[months_grp['Year'] == '2016']\n",
    "months5a = months_grp.loc[months_grp['Year'] == '2017']\n",
    "months6a = months_grp.loc[months_grp['Year'] == '2018']"
   ]
  },
  {
   "cell_type": "code",
   "execution_count": null,
   "metadata": {},
   "outputs": [],
   "source": [
    "# Create dataframe containing all of those values\n",
    "months_dfa = months1a.append(months2a)\n",
    "months_dfa = months_dfa.append(months3a)\n",
    "months_dfa = months_dfa.append(months4a)\n",
    "months_dfa = months_dfa.append(months5a)\n",
    "months_dfa = months_dfa.append(months6a)\n",
    "\n",
    "# Get number of deaths for each month\n",
    "grp2_deaths = months_dfa['Best Estimate of Deaths']"
   ]
  },
  {
   "cell_type": "code",
   "execution_count": null,
   "metadata": {},
   "outputs": [],
   "source": [
    "log2 = []\n",
    "for i in grp2_deaths:\n",
    "    log2.append(math.log10(i))\n",
    "\n",
    "# SHOW LOG DISTRIBUTION    \n",
    "sns.distplot(log2, hist = True, bins = 10, fit = norm, \\\n",
    "             color = 'blue', axlabel = \"Log of Number of Deaths\") \n",
    "plt.title(\"Logarithmic Distribution of Number of Monthly Deaths (2013-2018)\")\n",
    "plt.grid()\n",
    "plt.savefig('images/Late_Deaths_Distribution')"
   ]
  },
  {
   "cell_type": "code",
   "execution_count": null,
   "metadata": {
    "scrolled": true
   },
   "outputs": [],
   "source": [
    "# Compare distributions\n",
    "sns.distplot(log1, hist = True, bins = 10, fit = norm, \\\n",
    "             color = 'blue', axlabel = \"Log of Number of Deaths\") \n",
    "sns.distplot(log2, hist = True, bins = 10, fit = norm, \\\n",
    "             color = 'blue', axlabel = \"Log of Number of Deaths\") \n",
    "plt.grid()"
   ]
  },
  {
   "cell_type": "code",
   "execution_count": null,
   "metadata": {},
   "outputs": [],
   "source": [
    "# 2 Sample t test \n",
    "stats.ttest_ind(log1, log2, equal_var = False)"
   ]
  }
 ],
 "metadata": {
  "kernelspec": {
   "display_name": "Python 3",
   "language": "python",
   "name": "python3"
  },
  "language_info": {
   "codemirror_mode": {
    "name": "ipython",
    "version": 3
   },
   "file_extension": ".py",
   "mimetype": "text/x-python",
   "name": "python",
   "nbconvert_exporter": "python",
   "pygments_lexer": "ipython3",
   "version": "3.7.3"
  }
 },
 "nbformat": 4,
 "nbformat_minor": 2
}
